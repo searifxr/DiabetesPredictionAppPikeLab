{
 "cells": [
  {
   "cell_type": "markdown",
   "metadata": {},
   "source": [
    "MODEL SELECTION: SCIKIT-LEARN"
   ]
  },
  {
   "cell_type": "markdown",
   "metadata": {},
   "source": [
    "Imports"
   ]
  },
  {
   "cell_type": "code",
   "execution_count": 53,
   "metadata": {},
   "outputs": [],
   "source": [
    "import sys\n",
    "sys.setrecursionlimit(5000) # no RecursionError: maximum recursion depth exceeded\n",
    "import pandas as pd\n",
    "from sklearn.model_selection import train_test_split\n",
    "#__SOCATHIC GRADIENT DESCENT___#\n",
    "from sklearn.linear_model import SGDClassifier \n",
    "# from sklearn.preprocessing import StandardScaler\n",
    "from sklearn.preprocessing import MinMaxScaler\n",
    "import matplotlib.pyplot as plt\n",
    "from sklearn.metrics import roc_curve, auc\n",
    "from imblearn.combine import SMOTEENN\n",
    "# from sklearn.model_selection import GridSearchCV\n",
    "from sklearn.model_selection import RandomizedSearchCV\n",
    "from sklearn.metrics import classification_report"
   ]
  },
  {
   "cell_type": "markdown",
   "metadata": {},
   "source": [
    "Reading the data"
   ]
  },
  {
   "cell_type": "code",
   "execution_count": 41,
   "metadata": {},
   "outputs": [
    {
     "data": {
      "text/html": [
       "<div>\n",
       "<style scoped>\n",
       "    .dataframe tbody tr th:only-of-type {\n",
       "        vertical-align: middle;\n",
       "    }\n",
       "\n",
       "    .dataframe tbody tr th {\n",
       "        vertical-align: top;\n",
       "    }\n",
       "\n",
       "    .dataframe thead th {\n",
       "        text-align: right;\n",
       "    }\n",
       "</style>\n",
       "<table border=\"1\" class=\"dataframe\">\n",
       "  <thead>\n",
       "    <tr style=\"text-align: right;\">\n",
       "      <th></th>\n",
       "      <th>Pregnancies</th>\n",
       "      <th>Glucose</th>\n",
       "      <th>BloodPressure</th>\n",
       "      <th>SkinThickness</th>\n",
       "      <th>Insulin</th>\n",
       "      <th>BMI</th>\n",
       "      <th>DiabetesPedigreeFunction</th>\n",
       "      <th>Age</th>\n",
       "      <th>Outcome</th>\n",
       "    </tr>\n",
       "  </thead>\n",
       "  <tbody>\n",
       "    <tr>\n",
       "      <th>0</th>\n",
       "      <td>6</td>\n",
       "      <td>148</td>\n",
       "      <td>72</td>\n",
       "      <td>35</td>\n",
       "      <td>0</td>\n",
       "      <td>33.6</td>\n",
       "      <td>0.627</td>\n",
       "      <td>50</td>\n",
       "      <td>1</td>\n",
       "    </tr>\n",
       "    <tr>\n",
       "      <th>1</th>\n",
       "      <td>1</td>\n",
       "      <td>85</td>\n",
       "      <td>66</td>\n",
       "      <td>29</td>\n",
       "      <td>0</td>\n",
       "      <td>26.6</td>\n",
       "      <td>0.351</td>\n",
       "      <td>31</td>\n",
       "      <td>0</td>\n",
       "    </tr>\n",
       "    <tr>\n",
       "      <th>2</th>\n",
       "      <td>8</td>\n",
       "      <td>183</td>\n",
       "      <td>64</td>\n",
       "      <td>0</td>\n",
       "      <td>0</td>\n",
       "      <td>23.3</td>\n",
       "      <td>0.672</td>\n",
       "      <td>32</td>\n",
       "      <td>1</td>\n",
       "    </tr>\n",
       "    <tr>\n",
       "      <th>3</th>\n",
       "      <td>1</td>\n",
       "      <td>89</td>\n",
       "      <td>66</td>\n",
       "      <td>23</td>\n",
       "      <td>94</td>\n",
       "      <td>28.1</td>\n",
       "      <td>0.167</td>\n",
       "      <td>21</td>\n",
       "      <td>0</td>\n",
       "    </tr>\n",
       "    <tr>\n",
       "      <th>4</th>\n",
       "      <td>0</td>\n",
       "      <td>137</td>\n",
       "      <td>40</td>\n",
       "      <td>35</td>\n",
       "      <td>168</td>\n",
       "      <td>43.1</td>\n",
       "      <td>2.288</td>\n",
       "      <td>33</td>\n",
       "      <td>1</td>\n",
       "    </tr>\n",
       "  </tbody>\n",
       "</table>\n",
       "</div>"
      ],
      "text/plain": [
       "   Pregnancies  Glucose  BloodPressure  SkinThickness  Insulin   BMI  \\\n",
       "0            6      148             72             35        0  33.6   \n",
       "1            1       85             66             29        0  26.6   \n",
       "2            8      183             64              0        0  23.3   \n",
       "3            1       89             66             23       94  28.1   \n",
       "4            0      137             40             35      168  43.1   \n",
       "\n",
       "   DiabetesPedigreeFunction  Age  Outcome  \n",
       "0                     0.627   50        1  \n",
       "1                     0.351   31        0  \n",
       "2                     0.672   32        1  \n",
       "3                     0.167   21        0  \n",
       "4                     2.288   33        1  "
      ]
     },
     "execution_count": 41,
     "metadata": {},
     "output_type": "execute_result"
    }
   ],
   "source": [
    "#Colums for CSV data\n",
    "colums = ['Pregnancies', 'Glucose', 'BloodPressure', 'SkinThickness', 'Insulin', 'BMI', 'DiabetesPedigreeFunction', 'Age', 'Outcome']\n",
    "df = pd.read_csv('Data/Diabetes.csv',names=colums)\n",
    "\n",
    "#First 5 test\n",
    "df.head()"
   ]
  },
  {
   "cell_type": "markdown",
   "metadata": {},
   "source": [
    "Data looks good, clean, no null values"
   ]
  },
  {
   "cell_type": "markdown",
   "metadata": {},
   "source": [
    "Now train test split"
   ]
  },
  {
   "cell_type": "code",
   "execution_count": 42,
   "metadata": {},
   "outputs": [
    {
     "name": "stdout",
     "output_type": "stream",
     "text": [
      "Training Data Shape: (614, 8)\n",
      "Testing Data Shape: (154, 8)\n"
     ]
    }
   ],
   "source": [
    "X = df.drop(columns=['Outcome']) #This is what we are trying to predict\n",
    "Y = df['Outcome'] #What we are predicting\n",
    "\n",
    "# 80/20 training split for the Model\n",
    "X_Train, X_Test, Y_Train, Y_Test = train_test_split(X,Y,test_size=0.2,random_state=42)\n",
    "print(f\"Training Data Shape: {X_Train.shape}\")\n",
    "print(f\"Testing Data Shape: {X_Test.shape}\")"
   ]
  },
  {
   "cell_type": "markdown",
   "metadata": {},
   "source": [
    "Pefect 80/20 split. 8 Features as usual."
   ]
  },
  {
   "cell_type": "markdown",
   "metadata": {},
   "source": [
    "Logistic regression since outcome is binary (1 or 0) "
   ]
  },
  {
   "cell_type": "markdown",
   "metadata": {},
   "source": [
    "Using Stochastic Gradient Descent \n",
    "​\n"
   ]
  },
  {
   "cell_type": "code",
   "execution_count": null,
   "metadata": {},
   "outputs": [
    {
     "name": "stderr",
     "output_type": "stream",
     "text": [
      "c:\\Users\\aditr\\OneDrive\\Desktop\\Coding file\\MedRLX\\Diabetes\\.venv\\Lib\\site-packages\\sklearn\\model_selection\\_search.py:317: UserWarning: The total space of parameters 48 is smaller than n_iter=50. Running 48 iterations. For exhaustive searches, use GridSearchCV.\n",
      "  warnings.warn(\n"
     ]
    },
    {
     "name": "stdout",
     "output_type": "stream",
     "text": [
      "Best parameters: {'penalty': 'l2', 'loss': 'modified_huber', 'learning_rate': 'adaptive', 'eta0': 0.01, 'alpha': 0.0001}\n",
      "              precision    recall  f1-score   support\n",
      "\n",
      "           0       0.85      0.64      0.73        99\n",
      "           1       0.55      0.80      0.65        55\n",
      "\n",
      "    accuracy                           0.69       154\n",
      "   macro avg       0.70      0.72      0.69       154\n",
      "weighted avg       0.74      0.69      0.70       154\n",
      "\n",
      "Accuracy:  69.48 \n"
     ]
    }
   ],
   "source": [
    "#_______REDACTED____________#\n",
    "#Get another model#\n",
    "\n",
    "#Data augment using SMOTE\n",
    "# Standardize the features (important for gradient descent)\n",
    "scaler = MinMaxScaler()\n",
    "X_Train_Scaled = scaler.fit_transform(X_Train)\n",
    "smote_enn = SMOTEENN(random_state=42)\n",
    "X_Train_Resampled, Y_Train_Resampled = smote_enn.fit_resample(X_Train_Scaled, Y_Train)\n",
    "X_Test_Scaled = scaler.transform(X_Test)\n",
    "\n",
    "#SGD itself with log regression\n",
    "SGD = SGDClassifier(\n",
    "    penalty='l2', \n",
    "    loss='modified_huber', \n",
    "    learning_rate='adaptive', \n",
    "    eta0=0.01, \n",
    "    alpha=0.0001, \n",
    "    class_weight='balanced',  # Keep this if you need to handle imbalanced data\n",
    "    max_iter=1000,\n",
    "    random_state=42,\n",
    "    n_iter_no_change=5,\n",
    "    early_stopping=True\n",
    ") \n",
    "#loss function is log, 1000 standard limit, smallest stepsize 1e-3, 42 is constant noise\n",
    "\n",
    "#Adding Params(Beta) to the model\n",
    "SGD.fit(X_Train_Resampled, Y_Train_Resampled)\n",
    "#Finding best params\n",
    "param_grid = { \n",
    "    'loss': ['hinge', 'log_loss', 'modified_huber'],\n",
    "    'learning_rate': ['constant', 'adaptive'],\n",
    "    'eta0': [0.001, 0.01],\n",
    "    'alpha': [0.0001, 0.001],\n",
    "    'penalty': ['l2', 'l1'],\n",
    "}\n",
    "RandomizedSearchCV_search = RandomizedSearchCV(SGD, param_grid, n_iter=50, cv=3, scoring='f1', n_jobs=2, random_state=42)\n",
    "RandomizedSearchCV_search.fit(X_Train_Resampled, Y_Train_Resampled)\n",
    "print(f\"Best parameters: {RandomizedSearchCV_search.best_params_}\")\n",
    "Y_Pred = RandomizedSearchCV_search.best_estimator_.predict(X_Test_Scaled)\n",
    "print(classification_report(Y_Test, Y_Pred))\n",
    "\n",
    "#Accuarcy\n",
    "accuracy = SGD.score(X_Test_Scaled, Y_Test)\n",
    "print(f\"Accuracy: {accuracy * 100: .2f} \")"
   ]
  },
  {
   "cell_type": "markdown",
   "metadata": {},
   "source": []
  },
  {
   "cell_type": "markdown",
   "metadata": {},
   "source": [
    "Using a different model"
   ]
  },
  {
   "cell_type": "code",
   "execution_count": 60,
   "metadata": {},
   "outputs": [],
   "source": [
    "#Still picking"
   ]
  }
 ],
 "metadata": {
  "kernelspec": {
   "display_name": ".venv",
   "language": "python",
   "name": "python3"
  },
  "language_info": {
   "codemirror_mode": {
    "name": "ipython",
    "version": 3
   },
   "file_extension": ".py",
   "mimetype": "text/x-python",
   "name": "python",
   "nbconvert_exporter": "python",
   "pygments_lexer": "ipython3",
   "version": "3.12.6"
  }
 },
 "nbformat": 4,
 "nbformat_minor": 2
}
